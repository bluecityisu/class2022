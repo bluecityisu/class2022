{
  "nbformat": 4,
  "nbformat_minor": 0,
  "metadata": {
    "colab": {
      "private_outputs": true,
      "provenance": [],
      "authorship_tag": "ABX9TyOuXPdOpfVuh0HC6MLM2o/4",
      "include_colab_link": true
    },
    "kernelspec": {
      "name": "python3",
      "display_name": "Python 3"
    },
    "language_info": {
      "name": "python"
    }
  },
  "cells": [
    {
      "cell_type": "markdown",
      "metadata": {
        "id": "view-in-github",
        "colab_type": "text"
      },
      "source": [
        "<a href=\"https://colab.research.google.com/github/bluecityisu/class2022/blob/main/reg.ipynb\" target=\"_parent\"><img src=\"https://colab.research.google.com/assets/colab-badge.svg\" alt=\"Open In Colab\"/></a>"
      ]
    },
    {
      "cell_type": "code",
      "execution_count": null,
      "metadata": {
        "id": "VL5agSR9oKo_"
      },
      "outputs": [],
      "source": [
        "import re"
      ]
    },
    {
      "cell_type": "code",
      "source": [
        "txt = \"The rain in Spain\"\n",
        "pattern=\"ra\"\n",
        "x = re.findall(pattern, txt)\n",
        "print(x)"
      ],
      "metadata": {
        "id": "jl3euDXixyZ4"
      },
      "execution_count": null,
      "outputs": []
    },
    {
      "cell_type": "code",
      "source": [
        "#https://andy6804tw.github.io/2021/05/21/python-regx-intro/\n",
        "abc=re.compile(\"\\d\")\n",
        "word_list = re.split(abc, 'abc234abc')"
      ],
      "metadata": {
        "id": "UgvTXWKsoN3_"
      },
      "execution_count": null,
      "outputs": []
    },
    {
      "cell_type": "code",
      "source": [
        "print(word_list)"
      ],
      "metadata": {
        "id": "eyrbO_aDpldo"
      },
      "execution_count": null,
      "outputs": []
    },
    {
      "cell_type": "code",
      "source": [
        "#可分割中文\n",
        "res = re.compile(r\"([\\u4e00-\\u9fa5])\")\n",
        "word_list = re.split(res, '2天1地板t')"
      ],
      "metadata": {
        "id": "8gmZjXh-qdEQ"
      },
      "execution_count": null,
      "outputs": []
    },
    {
      "cell_type": "code",
      "source": [
        "print(word_list)"
      ],
      "metadata": {
        "id": "kJZwjw5Bqz4-"
      },
      "execution_count": null,
      "outputs": []
    },
    {
      "cell_type": "code",
      "source": [
        "text = \"我的電話是 0987-878887 not 0912345678\"\n",
        "pattern = \"\\d\\d\\d\\d-\\d\\d\\d\\d\\d\\d\"\n",
        "\n",
        "phoneRegex = re.compile(pattern)\n",
        "\n",
        "phones = phoneRegex.findall(text)\n",
        "print(phones)"
      ],
      "metadata": {
        "id": "HBOurCRisae8"
      },
      "execution_count": null,
      "outputs": []
    },
    {
      "cell_type": "code",
      "source": [
        "#網路範例，如何驗證email address是合格的\n",
        "#https://stackabuse.com/python-validate-email-address-with-regular-expressions-regex/"
      ],
      "metadata": {
        "id": "DQQF5_R0tRAf"
      },
      "execution_count": null,
      "outputs": []
    }
  ]
}