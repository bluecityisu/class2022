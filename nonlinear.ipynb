{
  "nbformat": 4,
  "nbformat_minor": 0,
  "metadata": {
    "colab": {
      "name": "nonlinear.ipynb",
      "private_outputs": true,
      "provenance": [],
      "collapsed_sections": [],
      "authorship_tag": "ABX9TyMPEyf4qmRIX16fihTHWvl3",
      "include_colab_link": true
    },
    "kernelspec": {
      "name": "python3",
      "display_name": "Python 3"
    },
    "language_info": {
      "name": "python"
    }
  },
  "cells": [
    {
      "cell_type": "markdown",
      "metadata": {
        "id": "view-in-github",
        "colab_type": "text"
      },
      "source": [
        "<a href=\"https://colab.research.google.com/github/bluecityisu/class2022/blob/main/nonlinear.ipynb\" target=\"_parent\"><img src=\"https://colab.research.google.com/assets/colab-badge.svg\" alt=\"Open In Colab\"/></a>"
      ]
    },
    {
      "cell_type": "code",
      "execution_count": null,
      "metadata": {
        "id": "oqsoH_P8_xTM"
      },
      "outputs": [],
      "source": [
        "import matplotlib.pyplot as plt\n",
        "import numpy as np\n",
        "xs = np.array([-5, -4.2, -4, -3, -2.0, -1.0, 0.0, 1.0, 2.0, 3.0, 3.3, 4.0, 5, 6], dtype=float)\n",
        "ys = np.array([25, 17.6, 16, 9, 4, 1.0, 0, 1.0, 4.0, 9.0, 10.89, 16.0, 25, 36], dtype=float)\n",
        "fig = plt.figure() #定義一個圖像窗口\n",
        "plt.plot(xs, ys)"
      ]
    },
    {
      "cell_type": "code",
      "source": [
        "import tensorflow as tf\n",
        "from tensorflow.keras import Sequential\n",
        "from tensorflow.keras.layers import Dense\n",
        "\n",
        "model = Sequential([\n",
        "  Dense(12, activation='relu', input_shape=[1]),\n",
        "  Dense(24, activation='relu'),\n",
        "  Dense(24, activation='relu'),\n",
        "  Dense(12, activation='relu'),\n",
        "  Dense(1)\n",
        "])\n",
        "\n",
        "model.compile(optimizer='adam', loss='mean_squared_error')\n",
        "\n",
        "\n",
        "model.fit(xs, ys, epochs=2000)\n",
        "\n",
        "print(model.predict([-2.0]))\n",
        "#print(model.get_layer('dense').get_weights())\n",
        "#print(model.get_layer('dense_1').get_weights())\n",
        "#print(model.get_layer('dense_2').get_weights())\n",
        "print(model.summary())"
      ],
      "metadata": {
        "id": "iAEzhifb7baN"
      },
      "execution_count": null,
      "outputs": []
    },
    {
      "cell_type": "code",
      "source": [
        "model.predict([-5])"
      ],
      "metadata": {
        "id": "V6tq2utOAL4l"
      },
      "execution_count": null,
      "outputs": []
    },
    {
      "cell_type": "code",
      "source": [
        "from google.colab import drive\n",
        "drive.mount('/content/drive')\n",
        "!pip install tensorflowjs\n",
        "import tensorflowjs as tfjs"
      ],
      "metadata": {
        "id": "05GSMnPLAZjU"
      },
      "execution_count": null,
      "outputs": []
    },
    {
      "cell_type": "code",
      "source": [
        "import tensorflowjs as tfjs\n",
        "tfjs.converters.save_keras_model(model, 'models')"
      ],
      "metadata": {
        "id": "piyt1x8LA3GT"
      },
      "execution_count": null,
      "outputs": []
    }
  ]
}