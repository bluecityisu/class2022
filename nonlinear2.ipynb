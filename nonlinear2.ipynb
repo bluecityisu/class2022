{
  "nbformat": 4,
  "nbformat_minor": 0,
  "metadata": {
    "colab": {
      "name": "nonlinear2.ipynb",
      "private_outputs": true,
      "provenance": [],
      "collapsed_sections": [],
      "authorship_tag": "ABX9TyOzldNAEMYXwleip0k67Ohe",
      "include_colab_link": true
    },
    "kernelspec": {
      "name": "python3",
      "display_name": "Python 3"
    },
    "language_info": {
      "name": "python"
    }
  },
  "cells": [
    {
      "cell_type": "markdown",
      "metadata": {
        "id": "view-in-github",
        "colab_type": "text"
      },
      "source": [
        "<a href=\"https://colab.research.google.com/github/bluecityisu/class2022/blob/main/nonlinear2.ipynb\" target=\"_parent\"><img src=\"https://colab.research.google.com/assets/colab-badge.svg\" alt=\"Open In Colab\"/></a>"
      ]
    },
    {
      "cell_type": "code",
      "execution_count": null,
      "metadata": {
        "id": "gKyLzK4xIZXf"
      },
      "outputs": [],
      "source": [
        "import matplotlib.pyplot as plt\n",
        "import numpy as np\n",
        "x1 = np.array([-9, -5, -8, -4, -3.5, -2.0, -1.0, 0.0, 1.0, 2.0, 3.0, 5, 4.0, 7, 10], dtype=float)\n",
        "x2 = np.array([-2, -2, -4, -4.1, -3, -2.0, -1.0, 0.0, 1.0, 2.0, 4.0, 3.3, 6.0, 5, 2], dtype=float)\n",
        "ys = np.array([85, 29, 80, 31.5, 20, 8, 2.0, 0, 2.0, 8.0, 25, 36, 52, 74, 104], dtype=float)\n",
        "fig, axs = plt.subplots(1, 2)\n",
        "fig.suptitle('Figure 1', fontsize=14)\n",
        "axs[0].scatter(x1, ys)\n",
        "axs[1].scatter(x2, ys)"
      ]
    },
    {
      "cell_type": "code",
      "source": [
        "xs=[[a,b] for a,b in zip(x1,x2)]\n",
        "for x in xs:\n",
        "  print(x)"
      ],
      "metadata": {
        "id": "K0a3ZMT1Iesn"
      },
      "execution_count": null,
      "outputs": []
    },
    {
      "cell_type": "code",
      "source": [
        "xs=np.array(xs,dtype=float)\n",
        "xs.shape"
      ],
      "metadata": {
        "id": "uhkqsFRaM9EW"
      },
      "execution_count": null,
      "outputs": []
    },
    {
      "cell_type": "code",
      "source": [
        "import tensorflow as tf\n",
        "from tensorflow.keras import Sequential\n",
        "from tensorflow.keras.layers import Dense\n",
        "\n",
        "model = Sequential([\n",
        "  Dense(12, activation='relu', input_shape=[2]),\n",
        "  Dense(24, activation='relu'),\n",
        "  Dense(24, activation='relu'),\n",
        "  Dense(12, activation='relu'),\n",
        "  Dense(1)\n",
        "])\n",
        "\n",
        "model.compile(optimizer='adam', loss='mean_squared_error')\n",
        "\n",
        "\n",
        "model.fit(xs, ys, epochs=2000)\n"
      ],
      "metadata": {
        "id": "iAEzhifb7baN"
      },
      "execution_count": null,
      "outputs": []
    },
    {
      "cell_type": "code",
      "source": [
        "print(model.summary())"
      ],
      "metadata": {
        "id": "HPtOciucL_cv"
      },
      "execution_count": null,
      "outputs": []
    },
    {
      "cell_type": "code",
      "source": [
        "p=np.array([[7,7]])\n",
        "abc=model.predict(p)\n",
        "print(abc)\n",
        "#print(model.get_layer('dense').get_weights())\n",
        "#print(model.get_layer('dense_1').get_weights())\n",
        "#print(model.get_layer('dense_2').get_weights())"
      ],
      "metadata": {
        "id": "_njEVWbaLu5U"
      },
      "execution_count": null,
      "outputs": []
    },
    {
      "cell_type": "code",
      "source": [
        "!pip install tensorflowjs\n",
        "import tensorflowjs as tfjs"
      ],
      "metadata": {
        "id": "BJ30h6yL1isQ"
      },
      "execution_count": null,
      "outputs": []
    },
    {
      "cell_type": "code",
      "source": [
        "tfjs.converters.save_keras_model(model, 'models')"
      ],
      "metadata": {
        "id": "vx_tULNE1jkv"
      },
      "execution_count": null,
      "outputs": []
    }
  ]
}