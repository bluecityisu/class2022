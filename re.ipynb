{
  "nbformat": 4,
  "nbformat_minor": 0,
  "metadata": {
    "colab": {
      "private_outputs": true,
      "provenance": [],
      "authorship_tag": "ABX9TyN1D7IlDyVzFOa8S65Vwi2i",
      "include_colab_link": true
    },
    "kernelspec": {
      "name": "python3",
      "display_name": "Python 3"
    },
    "language_info": {
      "name": "python"
    }
  },
  "cells": [
    {
      "cell_type": "markdown",
      "metadata": {
        "id": "view-in-github",
        "colab_type": "text"
      },
      "source": [
        "<a href=\"https://colab.research.google.com/github/bluecityisu/class2022/blob/main/re.ipynb\" target=\"_parent\"><img src=\"https://colab.research.google.com/assets/colab-badge.svg\" alt=\"Open In Colab\"/></a>"
      ]
    },
    {
      "cell_type": "code",
      "execution_count": null,
      "metadata": {
        "id": "VL5agSR9oKo_"
      },
      "outputs": [],
      "source": [
        "import re"
      ]
    },
    {
      "cell_type": "code",
      "source": [
        "#https://andy6804tw.github.io/2021/05/21/python-regx-intro/\n",
        "abc=re.compile(\"\\d\")\n",
        "word_list = re.split(abc, 'abc234abc')"
      ],
      "metadata": {
        "id": "UgvTXWKsoN3_"
      },
      "execution_count": null,
      "outputs": []
    },
    {
      "cell_type": "code",
      "source": [
        "print(word_list)"
      ],
      "metadata": {
        "id": "eyrbO_aDpldo"
      },
      "execution_count": null,
      "outputs": []
    },
    {
      "cell_type": "code",
      "source": [
        "res = re.compile(r\"([\\u4e00-\\u9fa5])\")\n",
        "word_list = re.split(res, '2天1地板t')"
      ],
      "metadata": {
        "id": "8gmZjXh-qdEQ"
      },
      "execution_count": null,
      "outputs": []
    },
    {
      "cell_type": "code",
      "source": [
        "print(word_list)"
      ],
      "metadata": {
        "id": "kJZwjw5Bqz4-"
      },
      "execution_count": null,
      "outputs": []
    }
  ]
}