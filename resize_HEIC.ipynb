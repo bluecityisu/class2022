{
  "nbformat": 4,
  "nbformat_minor": 0,
  "metadata": {
    "colab": {
      "provenance": [],
      "mount_file_id": "1AFhXcSHCzNAEckUyU0SCKUSfa0uH6PE9",
      "authorship_tag": "ABX9TyNfK8q2hl4M2Ju1UBjvsklo",
      "include_colab_link": true
    },
    "kernelspec": {
      "name": "python3",
      "display_name": "Python 3"
    },
    "language_info": {
      "name": "python"
    }
  },
  "cells": [
    {
      "cell_type": "markdown",
      "metadata": {
        "id": "view-in-github",
        "colab_type": "text"
      },
      "source": [
        "<a href=\"https://colab.research.google.com/github/bluecityisu/class2022/blob/main/resize_HEIC.ipynb\" target=\"_parent\"><img src=\"https://colab.research.google.com/assets/colab-badge.svg\" alt=\"Open In Colab\"/></a>"
      ]
    },
    {
      "cell_type": "code",
      "source": [
        "!pip install pyheif"
      ],
      "metadata": {
        "id": "vDmvBHH8zLme"
      },
      "execution_count": null,
      "outputs": []
    },
    {
      "cell_type": "code",
      "execution_count": 28,
      "metadata": {
        "id": "ouyOOMBAyuCU"
      },
      "outputs": [],
      "source": [
        "import PIL\n",
        "from PIL import Image\n",
        "import glob\n",
        "import shutil, os\n",
        "from time import sleep\n",
        "import pyheif"
      ]
    },
    {
      "cell_type": "code",
      "source": [
        "src=r\"/content/drive/MyDrive/class202309/smart/mobilephone/original_heic\"\n",
        "src1=src+ \"/tmp\"\n",
        "myfiles = glob.glob(src + '/*.heic') # or *.HEIC\n",
        "#myfiles=glob.glob(src+'/*')\n"
      ],
      "metadata": {
        "id": "YzxXZJKczUX7"
      },
      "execution_count": 29,
      "outputs": []
    },
    {
      "cell_type": "code",
      "source": [
        "for t in myfiles:\n",
        "  print(t.split(\"/\")[-1])"
      ],
      "metadata": {
        "colab": {
          "base_uri": "https://localhost:8080/"
        },
        "id": "fVS9Xq0jzr-F",
        "outputId": "657620b1-2a7c-4395-bdd4-f439a9f30fbd"
      },
      "execution_count": 30,
      "outputs": [
        {
          "output_type": "stream",
          "name": "stdout",
          "text": [
            "sample1.heic\n",
            "dwsample-heic-640.heic\n",
            "dwsample-heic-1280.heic\n"
          ]
        }
      ]
    },
    {
      "cell_type": "code",
      "source": [
        "dest=r\"/content/drive/MyDrive/class202309/smart/mobilephone/pic\"\n",
        "shutil.rmtree(dest)\n",
        "shutil.rmtree(src1)"
      ],
      "metadata": {
        "id": "iCjJHAZrzwh6"
      },
      "execution_count": 31,
      "outputs": []
    },
    {
      "cell_type": "code",
      "source": [
        "os.mkdir(dest)\n",
        "os.mkdir(src1)"
      ],
      "metadata": {
        "id": "zIc2v7Luz1sO"
      },
      "execution_count": 32,
      "outputs": []
    },
    {
      "cell_type": "code",
      "source": [
        "for f in myfiles:\n",
        "  fname = f.split(\"/\")[-1]\n",
        "  fname2=fname.split(\".\")[0]\n",
        "  i = pyheif.read_heif(f)\n",
        "  pi = Image.frombytes(mode=i.mode, size=i.size, data=i.data)\n",
        "  pi.save(src1 + '/' + fname2 + \".jpg\", format='jpeg')"
      ],
      "metadata": {
        "id": "mof7RCVd0y4V"
      },
      "execution_count": 33,
      "outputs": []
    },
    {
      "cell_type": "code",
      "source": [
        "myfiles = glob.glob(src1 + '/*.jpg')\n",
        "for f in myfiles:\n",
        "  fname = f.split(\"/\")[-1]\n",
        "  print(f)\n",
        "  with Image.open(f) as img:\n",
        "    img_new = img.resize((150, 150), PIL.Image.LANCZOS)\n",
        "    img_new.save(dest + '/' + fname)\n",
        "\n",
        "print('Resize the pics!！\\n')"
      ],
      "metadata": {
        "colab": {
          "base_uri": "https://localhost:8080/"
        },
        "id": "EpLhJf5vB3yY",
        "outputId": "07afa580-af4f-4ffa-959a-1dc609202661"
      },
      "execution_count": 34,
      "outputs": [
        {
          "output_type": "stream",
          "name": "stdout",
          "text": [
            "/content/drive/MyDrive/class202309/smart/mobilephone/original_heic/tmp/sample1.jpg\n",
            "/content/drive/MyDrive/class202309/smart/mobilephone/original_heic/tmp/dwsample-heic-640.jpg\n",
            "/content/drive/MyDrive/class202309/smart/mobilephone/original_heic/tmp/dwsample-heic-1280.jpg\n",
            "Resize the pics!！\n",
            "\n"
          ]
        }
      ]
    }
  ]
}