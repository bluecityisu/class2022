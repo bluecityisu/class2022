{
  "nbformat": 4,
  "nbformat_minor": 0,
  "metadata": {
    "colab": {
      "private_outputs": true,
      "provenance": [],
      "gpuType": "T4",
      "mount_file_id": "1r6ePA607MgFRLQVZ22ceFHUK16X2rWAB",
      "authorship_tag": "ABX9TyPin4vNO5SHuWShgcXz69HB",
      "include_colab_link": true
    },
    "kernelspec": {
      "name": "python3",
      "display_name": "Python 3"
    },
    "language_info": {
      "name": "python"
    },
    "accelerator": "GPU"
  },
  "cells": [
    {
      "cell_type": "markdown",
      "metadata": {
        "id": "view-in-github",
        "colab_type": "text"
      },
      "source": [
        "<a href=\"https://colab.research.google.com/github/bluecityisu/class2022/blob/main/reg5_deep.ipynb\" target=\"_parent\"><img src=\"https://colab.research.google.com/assets/colab-badge.svg\" alt=\"Open In Colab\"/></a>"
      ]
    },
    {
      "cell_type": "code",
      "execution_count": null,
      "metadata": {
        "id": "-YbJw8cLw-jl"
      },
      "outputs": [],
      "source": [
        "import matplotlib.pyplot as plt\n",
        "import numpy as np\n",
        "import pandas as pd\n",
        "import seaborn as sns\n",
        "import tensorflow as tf\n",
        "from tensorflow import keras\n",
        "from tensorflow.keras import layers\n",
        "from tensorflow.keras import Sequential\n",
        "from tensorflow.keras.layers import Dense\n",
        "print(tf.__version__)"
      ]
    },
    {
      "cell_type": "code",
      "source": [
        "url='/content/drive/MyDrive/python_bank/reg/s2493.xlsx'\n",
        "data = pd.read_excel(url)\n",
        "final=[]\n",
        "final2=[]"
      ],
      "metadata": {
        "id": "dUbncTaIxEZo"
      },
      "execution_count": null,
      "outputs": []
    },
    {
      "cell_type": "code",
      "source": [
        "model = Sequential([\n",
        "  Dense(64, activation='relu', input_shape=[1,]),\n",
        "  Dense(128, activation='relu'),\n",
        "  Dense(64, activation='relu'),\n",
        "  Dense(1)\n",
        "])\n",
        "model.compile(loss='mean_absolute_error', optimizer='adam')"
      ],
      "metadata": {
        "id": "z-rMS9Ui0Bei"
      },
      "execution_count": null,
      "outputs": []
    },
    {
      "cell_type": "code",
      "source": [
        "ss=data.pop(\"ss\")\n",
        "loop=len(data.columns)-1\n"
      ],
      "metadata": {
        "id": "7AZww948nAd_"
      },
      "execution_count": null,
      "outputs": []
    },
    {
      "cell_type": "code",
      "source": [
        "for i in range(loop):\n",
        "  target=data[data.columns[i+1]]\n",
        "  newset=pd.DataFrame(target)\n",
        "  \"\"\"\n",
        "  newset.insert(1,\"s2\",0)\n",
        "  newset[\"s2\"]=newset[newset.columns[0]]-ss\n",
        "  newset.insert(2,\"s3\",0)\n",
        "  for j in range(len(newset)-1):\n",
        "    newset[\"s3\"].iloc[j+1]=newset[newset.columns[0]].iloc[j+1]-newset[newset.columns[0]].iloc[j]\n",
        "  newset=newset.drop(newset.index[0],axis=0)\n",
        "  \"\"\"\n",
        "  newset=newset.drop(newset.index[-1],axis=0)\n",
        "  ss1=ss.drop(ss.index[0],axis=0)\n",
        "  #ss1=ss1.drop(ss1.index[0],axis=0)\n",
        "  data2 = pd.concat([ss1, newset], axis=1, join='inner')\n",
        "  train_dataset = data2[0:50]\n",
        "  test_dataset = data2.drop(train_dataset.index)\n",
        "  train_features = train_dataset.copy()\n",
        "  test_features = test_dataset.copy()\n",
        "  train_labels = train_features.pop('ss')\n",
        "  test_labels = test_features.pop('ss')\n",
        "  history = model.fit(train_features, train_labels, epochs=500)\n",
        "  hist = pd.DataFrame(history.history)\n",
        "  re=np.array(hist)\n",
        "  final.append(re[-1,0])\n",
        "  test_results = {}\n",
        "  test_results['model'] = model.evaluate(test_features, test_labels, verbose=0)\n",
        "  final2.append(test_results['model'])"
      ],
      "metadata": {
        "id": "4m7mGTJNpop-"
      },
      "execution_count": null,
      "outputs": []
    },
    {
      "cell_type": "code",
      "source": [
        "final"
      ],
      "metadata": {
        "id": "Eu5lGrAG5Qht"
      },
      "execution_count": null,
      "outputs": []
    },
    {
      "cell_type": "code",
      "source": [
        "final2"
      ],
      "metadata": {
        "id": "xRzzHEt0rQ5P"
      },
      "execution_count": null,
      "outputs": []
    },
    {
      "cell_type": "code",
      "source": [
        "\"\"\"\n",
        "ds=[[1.91,1.137,0.056]]\n",
        "ds\n",
        "ys=model.predict(ds)\n",
        "ys*1191+15459\n",
        "\"\"\""
      ],
      "metadata": {
        "id": "pwxrELiid9sa"
      },
      "execution_count": null,
      "outputs": []
    },
    {
      "cell_type": "code",
      "source": [
        "ds=np.array(test_features)\n",
        "ys=model.predict(ds)"
      ],
      "metadata": {
        "id": "Wq--y5kngqn5"
      },
      "execution_count": null,
      "outputs": []
    },
    {
      "cell_type": "code",
      "source": [
        "def plot_linear2(ys):\n",
        "  test_t=np.linspace(0, len(ys), len(ys))\n",
        "  plt.plot(test_t, test_labels, color='k', marker='o', label='Current Y')\n",
        "  plt.plot(test_t, ys, color='y', marker='o', label='Predicted Y')\n",
        "  plt.plot(test_t, test_features[test_features.columns[0]], color='b', marker='o', label='X')\n",
        "  plt.ylabel('stock price')\n",
        "  plt.xlabel('t')\n",
        "  plt.legend()\n",
        "plot_linear2(ys)"
      ],
      "metadata": {
        "id": "uzKHIJ-0hMFQ"
      },
      "execution_count": null,
      "outputs": []
    },
    {
      "cell_type": "code",
      "source": [
        "ys*1191+15459"
      ],
      "metadata": {
        "id": "ltbHAHVtr-SP"
      },
      "execution_count": null,
      "outputs": []
    },
    {
      "cell_type": "code",
      "source": [
        "data2"
      ],
      "metadata": {
        "id": "b4gNW5AGX44W"
      },
      "execution_count": null,
      "outputs": []
    }
  ]
}