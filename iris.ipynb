{
  "nbformat": 4,
  "nbformat_minor": 0,
  "metadata": {
    "colab": {
      "private_outputs": true,
      "provenance": [],
      "mount_file_id": "1A3CwfLN91f4ntX_wvsvvZq1sIh5cXkeT",
      "authorship_tag": "ABX9TyMahLF80B4Zbc2T3WnalnMe",
      "include_colab_link": true
    },
    "kernelspec": {
      "name": "python3",
      "display_name": "Python 3"
    },
    "language_info": {
      "name": "python"
    }
  },
  "cells": [
    {
      "cell_type": "markdown",
      "metadata": {
        "id": "view-in-github",
        "colab_type": "text"
      },
      "source": [
        "<a href=\"https://colab.research.google.com/github/bluecityisu/class2022/blob/main/iris.ipynb\" target=\"_parent\"><img src=\"https://colab.research.google.com/assets/colab-badge.svg\" alt=\"Open In Colab\"/></a>"
      ]
    },
    {
      "cell_type": "code",
      "execution_count": null,
      "metadata": {
        "id": "IUNaJxFc-F6R"
      },
      "outputs": [],
      "source": [
        "import tensorflow as tf\n",
        "\n",
        "tf.__version__, tf.test.gpu_device_name()"
      ]
    },
    {
      "cell_type": "code",
      "source": [
        "url = 'https://raw.githubusercontent.com/bluecityisu/d1/main/flower.csv'\n",
        "import pandas as pd\n",
        "data = pd.read_csv(url)\n",
        "data.head()"
      ],
      "metadata": {
        "id": "1x769slb-M1V"
      },
      "execution_count": null,
      "outputs": []
    },
    {
      "cell_type": "code",
      "source": [
        "import matplotlib.pyplot as plt\n",
        "import seaborn as sns"
      ],
      "metadata": {
        "id": "F2q7bCQeGJ7C"
      },
      "execution_count": null,
      "outputs": []
    },
    {
      "cell_type": "code",
      "source": [
        "y=data['species']\n",
        "x=data['sepal_length']\n",
        "x2=data['sepal_width']\n",
        "x3=data['petal_length']\n",
        "x4=data['petal_width']\n",
        "plt.figure(figsize=(8, 5)) \n",
        "plt.subplot(2, 2, 1)\n",
        "plt.scatter(x, y)\n",
        "\n",
        "plt.subplot(2, 2, 2)\n",
        "plt.scatter(x2,y)\n",
        "\n",
        "plt.subplot(2, 2, 3)\n",
        "plt.scatter(x3,y)\n",
        "\n",
        "plt.subplot(2, 2, 4)\n",
        "plt.scatter(x3,y)"
      ],
      "metadata": {
        "id": "j8ts9z0jGZbz"
      },
      "execution_count": null,
      "outputs": []
    },
    {
      "cell_type": "code",
      "source": [
        "features = sns.pairplot(data, vars=['sepal_length', 'sepal_width', 'petal_length', 'petal_width'], hue='species')"
      ],
      "metadata": {
        "id": "l6IPJfp7JlGy"
      },
      "execution_count": null,
      "outputs": []
    },
    {
      "cell_type": "code",
      "source": [
        "data[50:]"
      ],
      "metadata": {
        "id": "0wdN1a9kNIeb"
      },
      "execution_count": null,
      "outputs": []
    },
    {
      "cell_type": "code",
      "source": [
        "df = data.copy()\n",
        "target = df.pop('species')"
      ],
      "metadata": {
        "id": "15d96VUA-zqe"
      },
      "execution_count": null,
      "outputs": []
    },
    {
      "cell_type": "code",
      "source": [
        "features = df.values\n",
        "labels = target.values"
      ],
      "metadata": {
        "id": "yRCFtOqE-70e"
      },
      "execution_count": null,
      "outputs": []
    },
    {
      "cell_type": "code",
      "source": [
        "features[0]"
      ],
      "metadata": {
        "id": "eEm_LkRY--RV"
      },
      "execution_count": null,
      "outputs": []
    },
    {
      "cell_type": "code",
      "source": [
        "import numpy\n",
        "labels[0]\n",
        "labels.shape"
      ],
      "metadata": {
        "id": "Cgx7Fr6Z_BMO"
      },
      "execution_count": null,
      "outputs": []
    },
    {
      "cell_type": "code",
      "source": [
        "#import numpy as np\n",
        "#mylabel=[]\n",
        "\n",
        "for xx in range(labels.shape[0]):\n",
        "  if labels[xx]==1:\n",
        "    labels[xx]=0\n",
        "  elif labels[xx]==2:\n",
        "    labels[xx]=1\n",
        "  elif labels[xx]==3:\n",
        "    labels[xx]=2\n",
        " # mylabel.append(abc)"
      ],
      "metadata": {
        "id": "0nWcDRdcKpMK"
      },
      "execution_count": null,
      "outputs": []
    },
    {
      "cell_type": "code",
      "source": [
        "labels"
      ],
      "metadata": {
        "id": "WM_-3ui8K6BC"
      },
      "execution_count": null,
      "outputs": []
    },
    {
      "cell_type": "code",
      "source": [
        "labels.shape"
      ],
      "metadata": {
        "id": "cPKwRe9TK8yi"
      },
      "execution_count": null,
      "outputs": []
    },
    {
      "cell_type": "code",
      "source": [
        "#import numpy as np\n",
        "#mylabel=[]\n",
        "\n",
        "#for xx in range(labels.shape[0]):\n",
        "  #if labels[xx]==1:\n",
        "    #abc=[1,0,0]\n",
        "  #elif labels[xx]==2:\n",
        "    #abc=[0,1,0]\n",
        "  #elif labels[xx]==3:\n",
        "    #abc=[0,0,1]\n",
        " # mylabel.append(abc)"
      ],
      "metadata": {
        "id": "7wwwH1llDjoG"
      },
      "execution_count": null,
      "outputs": []
    },
    {
      "cell_type": "code",
      "source": [
        "#mylabel=np.array(mylabel)\n",
        "#print(mylabel.shape)\n",
        "#mylabel=np.squeeze(mylabel,axis=0)\n",
        "#print(mylabel.shape)"
      ],
      "metadata": {
        "id": "8G9s1g-RGApE"
      },
      "execution_count": null,
      "outputs": []
    },
    {
      "cell_type": "code",
      "source": [
        "from tensorflow.keras import Sequential\n",
        "from tensorflow.keras.layers import Dense\n",
        "model = Sequential([\n",
        "  Dense(64, activation='relu', input_shape=[4,]),\n",
        "  Dense(128, activation='relu'),\n",
        "  Dense(128, activation='relu'),\n",
        "  Dense(64, activation='relu'),\n",
        "  Dense(3, activation='softmax')\n",
        "])\n",
        "#rmse = tf.keras.metrics.RootMeanSquaredError()\n",
        "\n",
        "model.compile(loss='sparse_categorical_crossentropy', optimizer='adam',\n",
        "              metrics=['accuracy'])"
      ],
      "metadata": {
        "id": "zbnElsQG_YQu"
      },
      "execution_count": null,
      "outputs": []
    },
    {
      "cell_type": "code",
      "source": [
        "history = model.fit(features, labels, epochs=100)"
      ],
      "metadata": {
        "id": "CJjbJTNGAPnG"
      },
      "execution_count": null,
      "outputs": []
    },
    {
      "cell_type": "code",
      "source": [
        "import numpy as np\n",
        "category=[\"Setosa\", \"Versicolor\", \"Virginica\"]\n",
        "#print(features[0])\n",
        "#inp=[5.1, 3.5, 1.4, 0.2]  ok\n",
        "#inp=tf.expand_dims(inp, axis=0)  ok\n",
        "#f=tf.expand_dims(features[51], axis=0)\n",
        "#predictions=model.predict(f)\n",
        "#predictions = model.predict([[5.1, 3.5, 1.4, 0.2]])\n",
        "predictions = model.predict([[6.2,\t3.4,\t5.4,\t2.3]])\n",
        "print(np.round(predictions[0],2))\n",
        "print(np.argmax(predictions[0]))\n",
        "print(category[np.argmax(predictions[0])])"
      ],
      "metadata": {
        "id": "Z1K84Cv9LDl5"
      },
      "execution_count": null,
      "outputs": []
    },
    {
      "cell_type": "code",
      "source": [
        "!pip install tensorflowjs\n",
        "import tensorflowjs as tfjs\n",
        "tfjs.converters.save_keras_model(model, 'models')"
      ],
      "metadata": {
        "id": "WCtgaWd2PYQi"
      },
      "execution_count": null,
      "outputs": []
    },
    {
      "cell_type": "code",
      "source": [
        "!zip -r /content/drive/MyDrive/class/202209/iris /content/models "
      ],
      "metadata": {
        "id": "3zGjf7cDPcTQ"
      },
      "execution_count": null,
      "outputs": []
    }
  ]
}