{
  "nbformat": 4,
  "nbformat_minor": 0,
  "metadata": {
    "colab": {
      "provenance": [],
      "authorship_tag": "ABX9TyP9ypKw3cyVouDVDqHWNCqI",
      "include_colab_link": true
    },
    "kernelspec": {
      "name": "python3",
      "display_name": "Python 3"
    },
    "language_info": {
      "name": "python"
    }
  },
  "cells": [
    {
      "cell_type": "markdown",
      "metadata": {
        "id": "view-in-github",
        "colab_type": "text"
      },
      "source": [
        "<a href=\"https://colab.research.google.com/github/bluecityisu/class2022/blob/main/regex_webpage.ipynb\" target=\"_parent\"><img src=\"https://colab.research.google.com/assets/colab-badge.svg\" alt=\"Open In Colab\"/></a>"
      ]
    },
    {
      "cell_type": "code",
      "source": [
        "import requests\n",
        "from bs4 import BeautifulSoup\n",
        "from urllib.request import urlopen\n",
        "import re\n",
        "\n",
        "def get_text(url,str):\n",
        "    page = urlopen(url)\n",
        "    soup = BeautifulSoup(page, \"html.parser\")\n",
        "    #text = ' '.join(map(lambda p: p.text, soup.find(string=re.compile(str))))\n",
        "    element = soup.find('body')\n",
        "    text=element.get_text()\n",
        "\n",
        "    #return ccword(text,str)   #soup.title.text, text\n",
        "    return re.findall(str, text)\n",
        "\n",
        "\n",
        "url=\"https://www.he.ntnu.edu.tw/index.php/en/faculty-2/\"\n",
        "\n",
        "\n",
        "text1 = get_text(url,\"[a-zA-Z0-9]{0,20}@[a-z]{1,5}.[a-z]{1,5}.*\")\n",
        "text2 = get_text(url,\"[a-zA-Z]{1,6}-[a-zA-Z]{1,6}\\s[A-Z]{1}[a-z]{1,4}\")\n",
        "text3 = get_text(url,\"\\([0-9]{1,2}\\)[0-9]{3,}-[0-9]{4,}\")\n",
        "\n",
        "for i in text1:\n",
        "  print(i)\n",
        "\n",
        "for i in text2:\n",
        "  print(i)\n",
        "\n",
        "for i in text3:\n",
        "  print(i)"
      ],
      "metadata": {
        "colab": {
          "base_uri": "https://localhost:8080/"
        },
        "id": "wc97KuPEewU8",
        "outputId": "f202af28-2d9c-4603-b759-c7f4724683ed"
      },
      "execution_count": 24,
      "outputs": [
        {
          "output_type": "stream",
          "name": "stdout",
          "text": [
            "s09144@ntnu.edu.tw\n",
            "t09010@ntnu.edu.tw\n",
            "jonglong@ntnu.edu.tw\n",
            "t09016@ntnu.edu.tw\n",
            "tonylee@ntnu.edu.tw\n",
            "fongchingchang@ntnu.edu.tw\n",
            "yjlien@ntnu.edu.tw\n",
            "Lee@ntnu.edu.tw\n",
            "yjchang@ntnu.edu.tw\n",
            "wenchiwu@ntnu.edu.tw\n",
            "chiechien@ntnu.edu.tw\n",
            "mingchiehli@ntnu.edu.tw\n",
            "jyliao@ntnu.edu.tw\n",
            "chiahsienlin@ntnu.edu.tw\n",
            "juliachang1@ntnu.edu.tw \n",
            "Huangsj@ntnu.edu.tw\n",
            "t09002@ntnu.edu.tw\n",
            "t09003@ntnu.edu.tw\n",
            "12651@ntnu.edu.tw\n",
            "12293@ntnu.edu.tw\n",
            "t59001@ntnu.edu.tw \n",
            "t09018@ntnu.edu.tw \n",
            "necford@ntnu.edu.tw\n",
            "chiu1216@ntnu.edu.tw\n",
            "joanne0518@ntnu.edu.tw\n",
            "hangjui@ntnu.edu.tw\n",
            "Chen-Yin Tung\n",
            "Chieh-Hsing Liu\n",
            "Jong-Long Guo\n",
            "Yih-Jin Hu\n",
            "Szu-Hsien Lee\n",
            "Fong-Ching Chang\n",
            "Yin-Ju Lien\n",
            "Tzu-Chi Lee\n",
            "Yen-Jung Chang\n",
            "Wen-Chi Wu\n",
            "Chie-Chien Tseng\n",
            "Ming-Chieh Li\n",
            "Jung-Yu Liao\n",
            "Chia-Hsien Lin\n",
            "Chia-Chen Chang\n",
            "Huey-Mei Jeng\n",
            "Shu-Jen Huang\n",
            "Cuey-Yun Liu\n",
            "Hsueh-Yun Chi\n",
            "Chang-Fung Wei\n",
            "Dah-Shyong Jiang\n",
            "Shu-Huei Wang\n",
            "Kuen-Hwang Yu\n",
            "Chien-Lin Chen\n",
            "Fen-Yu Chu\n",
            "Tsung-Yi Lin\n",
            "Song-Yuan Huang\n",
            "Han-Wen Yen\n",
            "Chen-Nan Kao\n",
            "Cheng-Hsun Chiu\n",
            "Yun-Chia Liu\n",
            "Shang-Jui Huang\n",
            "(02)7749-1729\n",
            "(02)7749-1726\n",
            "(02)7749-1737\n",
            "(02)7749-1705\n",
            "(02)7749-1701\n",
            "(02)7749-1711\n",
            "(02)7749-1736\n",
            "(02)7749-1724\n",
            "(02)7749-1733\n",
            "(02)7749-1732\n",
            "(02)7749-1699\n",
            "(02)7749-1698\n",
            "(02)7749-1722\n",
            "(02)7749-1741\n",
            "(02)7749-1709\n",
            "(02)7749-1746\n",
            "(02)7749-1745\n",
            "(02)7749-1709\n",
            "(02)7749-1746\n",
            "(02)7749-1740\n",
            "(02)2933-3585\n",
            "(02)7749-1717\n",
            "(02)7749-1719\n",
            "(02)7749-1718\n",
            "(02)7749-3131\n"
          ]
        }
      ]
    },
    {
      "cell_type": "code",
      "source": [
        "abc=[]\n",
        "for x,y,z in zip(text1,text2,text3):\n",
        "  abc.append(y+ \", email:\"+x+\"  Tel:\"+z)\n",
        "abc"
      ],
      "metadata": {
        "colab": {
          "base_uri": "https://localhost:8080/"
        },
        "id": "p5ostYKO5Dg7",
        "outputId": "f5ab02ce-4b6e-4e2b-8c0f-540146cb41f9"
      },
      "execution_count": 28,
      "outputs": [
        {
          "output_type": "execute_result",
          "data": {
            "text/plain": [
              "['Chen-Yin Tung, email:s09144@ntnu.edu.tw  Tel:(02)7749-1729',\n",
              " 'Chieh-Hsing Liu, email:t09010@ntnu.edu.tw  Tel:(02)7749-1726',\n",
              " 'Jong-Long Guo, email:jonglong@ntnu.edu.tw  Tel:(02)7749-1737',\n",
              " 'Yih-Jin Hu, email:t09016@ntnu.edu.tw  Tel:(02)7749-1705',\n",
              " 'Szu-Hsien Lee, email:tonylee@ntnu.edu.tw  Tel:(02)7749-1701',\n",
              " 'Fong-Ching Chang, email:fongchingchang@ntnu.edu.tw  Tel:(02)7749-1711',\n",
              " 'Yin-Ju Lien, email:yjlien@ntnu.edu.tw  Tel:(02)7749-1736',\n",
              " 'Tzu-Chi Lee, email:Lee@ntnu.edu.tw  Tel:(02)7749-1724',\n",
              " 'Yen-Jung Chang, email:yjchang@ntnu.edu.tw  Tel:(02)7749-1733',\n",
              " 'Wen-Chi Wu, email:wenchiwu@ntnu.edu.tw  Tel:(02)7749-1732',\n",
              " 'Chie-Chien Tseng, email:chiechien@ntnu.edu.tw  Tel:(02)7749-1699',\n",
              " 'Ming-Chieh Li, email:mingchiehli@ntnu.edu.tw  Tel:(02)7749-1698',\n",
              " 'Jung-Yu Liao, email:jyliao@ntnu.edu.tw  Tel:(02)7749-1722',\n",
              " 'Chia-Hsien Lin, email:chiahsienlin@ntnu.edu.tw  Tel:(02)7749-1741',\n",
              " 'Chia-Chen Chang, email:juliachang1@ntnu.edu.tw   Tel:(02)7749-1709',\n",
              " 'Huey-Mei Jeng, email:Huangsj@ntnu.edu.tw  Tel:(02)7749-1746',\n",
              " 'Shu-Jen Huang, email:t09002@ntnu.edu.tw  Tel:(02)7749-1745',\n",
              " 'Cuey-Yun Liu, email:t09003@ntnu.edu.tw  Tel:(02)7749-1709',\n",
              " 'Hsueh-Yun Chi, email:12651@ntnu.edu.tw  Tel:(02)7749-1746',\n",
              " 'Chang-Fung Wei, email:12293@ntnu.edu.tw  Tel:(02)7749-1740',\n",
              " 'Dah-Shyong Jiang, email:t59001@ntnu.edu.tw   Tel:(02)2933-3585',\n",
              " 'Shu-Huei Wang, email:t09018@ntnu.edu.tw   Tel:(02)7749-1717',\n",
              " 'Kuen-Hwang Yu, email:necford@ntnu.edu.tw  Tel:(02)7749-1719',\n",
              " 'Chien-Lin Chen, email:chiu1216@ntnu.edu.tw  Tel:(02)7749-1718',\n",
              " 'Fen-Yu Chu, email:joanne0518@ntnu.edu.tw  Tel:(02)7749-3131']"
            ]
          },
          "metadata": {},
          "execution_count": 28
        }
      ]
    }
  ]
}