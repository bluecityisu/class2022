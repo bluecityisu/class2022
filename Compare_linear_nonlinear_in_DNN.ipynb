{
  "nbformat": 4,
  "nbformat_minor": 0,
  "metadata": {
    "colab": {
      "private_outputs": true,
      "provenance": [],
      "gpuType": "T4",
      "authorship_tag": "ABX9TyMNSGDYTWSZVp65Fwj3dwIC",
      "include_colab_link": true
    },
    "kernelspec": {
      "name": "python3",
      "display_name": "Python 3"
    },
    "language_info": {
      "name": "python"
    },
    "accelerator": "GPU"
  },
  "cells": [
    {
      "cell_type": "markdown",
      "metadata": {
        "id": "view-in-github",
        "colab_type": "text"
      },
      "source": [
        "<a href=\"https://colab.research.google.com/github/bluecityisu/class2022/blob/main/Compare_linear_nonlinear_in_DNN.ipynb\" target=\"_parent\"><img src=\"https://colab.research.google.com/assets/colab-badge.svg\" alt=\"Open In Colab\"/></a>"
      ]
    },
    {
      "cell_type": "code",
      "execution_count": null,
      "metadata": {
        "id": "nG4qSxoY9nxW"
      },
      "outputs": [],
      "source": [
        "import matplotlib.pyplot as plt\n",
        "import numpy as np\n",
        "# xs is temperature, ys are sales in hot pot restaurants, which are popular food choice in Chinese society.\n",
        "xs = np.array([5, 7, 10, 12, 13, 14, 16.5, 18, 19, 20, 22, 25, 28, 30, 32, 35], dtype=float)\n",
        "ys = np.array([112, 115, 118, 120, 118, 117, 116, 110, 106, 100, 98, 96, 90, 89, 88.5, 88], dtype=float)\n",
        "fig = plt.figure()\n",
        "plt.plot(xs, ys)"
      ]
    },
    {
      "cell_type": "code",
      "source": [
        "import tensorflow as tf\n",
        "from tensorflow.keras import Sequential\n",
        "from tensorflow.keras.layers import Dense\n",
        "\n",
        "model = Sequential([\n",
        "  Dense(1,input_shape=[1]),\n",
        "  Dense(1)\n",
        "])\n",
        "\n",
        "model.compile(optimizer='adam', loss='mean_squared_error')\n"
      ],
      "metadata": {
        "id": "V9NjGUGewdOt"
      },
      "execution_count": null,
      "outputs": []
    },
    {
      "cell_type": "code",
      "source": [
        "print(model.summary())"
      ],
      "metadata": {
        "id": "s8biTJAhF_ta"
      },
      "execution_count": null,
      "outputs": []
    },
    {
      "cell_type": "code",
      "source": [
        "import time\n",
        "g1=time.time()\n",
        "model.fit(xs, ys, epochs=3000)\n",
        "g2=time.time()\n",
        "print(\"time used=\", \"%.2f\" % (g2-g1), \"seconds\")"
      ],
      "metadata": {
        "id": "gZ0rsxvDGETq"
      },
      "execution_count": null,
      "outputs": []
    },
    {
      "cell_type": "code",
      "source": [
        "print(model.predict([5]))"
      ],
      "metadata": {
        "id": "r9fWN0XZ-XsM"
      },
      "execution_count": null,
      "outputs": []
    },
    {
      "cell_type": "code",
      "source": [
        "model.get_layer('dense').get_weights()"
      ],
      "metadata": {
        "id": "mLGTOtWH-wIc"
      },
      "execution_count": null,
      "outputs": []
    },
    {
      "cell_type": "code",
      "source": [
        "model.get_layer('dense_1').get_weights()"
      ],
      "metadata": {
        "id": "JCG53cr4-8FM"
      },
      "execution_count": null,
      "outputs": []
    },
    {
      "cell_type": "code",
      "source": [
        "yp=model.predict(xs)\n",
        "print(yp)\n",
        "#print(yp.shape)"
      ],
      "metadata": {
        "id": "QZ7IWoyrwG0s"
      },
      "execution_count": null,
      "outputs": []
    },
    {
      "cell_type": "code",
      "source": [
        "plt.plot(xs, ys, color='k', marker='o', label='Actual Y')\n",
        "plt.plot(xs, yp, color='y', marker='o', label='Predicted Y')\n",
        "plt.ylabel('sales')\n",
        "plt.xlabel('temp')\n",
        "plt.legend()"
      ],
      "metadata": {
        "id": "hOT_O9q1wdTr"
      },
      "execution_count": null,
      "outputs": []
    },
    {
      "cell_type": "code",
      "source": [
        "#teach you how to save and recall the model. so next time you do not have to train again\n",
        "#connect cloud first\n",
        "#model.save(\"/content/drive/MyDrive/tmp/rps.h5\")\n",
        "#model = tf.keras.models.load_model('/content/drive/MyDrive/tmp/rps.h5')"
      ],
      "metadata": {
        "id": "8FzQZeZeDEuw"
      },
      "execution_count": null,
      "outputs": []
    },
    {
      "cell_type": "code",
      "source": [
        "model2 = Sequential([\n",
        "  Dense(3, activation='relu', input_shape=[1]),\n",
        "  Dense(3, activation='relu'),\n",
        "  Dense(1)\n",
        "])\n",
        "\n",
        "model2.compile(optimizer='adam', loss='mean_squared_error')"
      ],
      "metadata": {
        "id": "MGp6hXJww2r3"
      },
      "execution_count": null,
      "outputs": []
    },
    {
      "cell_type": "code",
      "source": [
        "model2.fit(xs, ys, epochs=3000)"
      ],
      "metadata": {
        "id": "YDN_pP8Rw_47"
      },
      "execution_count": null,
      "outputs": []
    },
    {
      "cell_type": "code",
      "source": [
        "ypn=model2.predict(xs)\n",
        "ypn"
      ],
      "metadata": {
        "id": "5M1Appt-xpp8"
      },
      "execution_count": null,
      "outputs": []
    },
    {
      "cell_type": "code",
      "source": [
        "print(model2.predict([0]))"
      ],
      "metadata": {
        "id": "SsavbBAu11zl"
      },
      "execution_count": null,
      "outputs": []
    },
    {
      "cell_type": "code",
      "source": [
        "plt.plot(xs, ys, color='k', marker='o', label='Actual Y')\n",
        "plt.plot(xs, ypn, color='y', marker='o', label='Predicted Y')\n",
        "plt.ylabel('sales')\n",
        "plt.xlabel('temp')\n",
        "plt.legend()"
      ],
      "metadata": {
        "id": "rkEemYRfxwib"
      },
      "execution_count": null,
      "outputs": []
    },
    {
      "cell_type": "code",
      "source": [
        "\"\"\"\n",
        "!pip install tensorflowjs\n",
        "import tensorflowjs as tfjs\n",
        "tfjs.converters.save_keras_model(model, 'models')\n",
        "\"\"\""
      ],
      "metadata": {
        "id": "LqMrl2oX5Ygr"
      },
      "execution_count": null,
      "outputs": []
    }
  ]
}