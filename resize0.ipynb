{
  "nbformat": 4,
  "nbformat_minor": 0,
  "metadata": {
    "colab": {
      "private_outputs": true,
      "provenance": [],
      "mount_file_id": "1uyqnzkBdIXQbdtOhkn1Qg9W-D2T9PzEU",
      "authorship_tag": "ABX9TyN7BqbVnlmilJvUTRwIoUJN",
      "include_colab_link": true
    },
    "kernelspec": {
      "name": "python3",
      "display_name": "Python 3"
    },
    "language_info": {
      "name": "python"
    }
  },
  "cells": [
    {
      "cell_type": "markdown",
      "metadata": {
        "id": "view-in-github",
        "colab_type": "text"
      },
      "source": [
        "<a href=\"https://colab.research.google.com/github/bluecityisu/class2022/blob/main/resize0.ipynb\" target=\"_parent\"><img src=\"https://colab.research.google.com/assets/colab-badge.svg\" alt=\"Open In Colab\"/></a>"
      ]
    },
    {
      "cell_type": "code",
      "source": [
        "import PIL\n",
        "from PIL import Image\n",
        "import glob\n",
        "import shutil, os\n",
        "from time import sleep"
      ],
      "metadata": {
        "id": "iwZTpyKFvSml"
      },
      "execution_count": null,
      "outputs": []
    },
    {
      "cell_type": "code",
      "source": [
        "src=\"/content/drive/MyDrive/python_bank/resize/original\"\n",
        "myfiles = glob.glob(src + '/*.jpg') #讀取資料夾全部jpg檔案\n",
        "#myfiles=glob.glob(src+'/*')\n",
        "\n"
      ],
      "metadata": {
        "id": "5Si_aAiwvrcc"
      },
      "execution_count": null,
      "outputs": []
    },
    {
      "cell_type": "code",
      "source": [
        "for t in myfiles:\n",
        "  print(t.split(\"/\")[-1])"
      ],
      "metadata": {
        "id": "fB_5lsm3w5Jd"
      },
      "execution_count": null,
      "outputs": []
    },
    {
      "cell_type": "code",
      "source": [
        "dest=\"/content/drive/MyDrive/python_bank/resize/dest\"\n",
        "shutil.rmtree(dest)"
      ],
      "metadata": {
        "id": "sWW4PteMyE19"
      },
      "execution_count": null,
      "outputs": []
    },
    {
      "cell_type": "code",
      "source": [
        "os.mkdir(dest)"
      ],
      "metadata": {
        "id": "XDv2MjOyyH56"
      },
      "execution_count": null,
      "outputs": []
    },
    {
      "cell_type": "code",
      "source": [
        "\n",
        "for f in myfiles:\n",
        "  fname = f.split(\"/\")[-1]\n",
        "  img = Image.open(f)\n",
        "  img_new = img.resize((300, 225), PIL.Image.LANCZOS)  #尺寸300x225\n",
        "  img_new.save(dest + '/' + fname)\n",
        "print('Resize the pics!！\\n')"
      ],
      "metadata": {
        "id": "gUM6O8QOvwi0"
      },
      "execution_count": null,
      "outputs": []
    }
  ]
}