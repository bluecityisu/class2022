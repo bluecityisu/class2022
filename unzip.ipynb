{
  "nbformat": 4,
  "nbformat_minor": 0,
  "metadata": {
    "colab": {
      "provenance": [],
      "mount_file_id": "1tsVflxqxGESo49OBEJR8inLV1RedxDGE",
      "authorship_tag": "ABX9TyOF9WJ6lGjGE09XCJXpxcqT",
      "include_colab_link": true
    },
    "kernelspec": {
      "name": "python3",
      "display_name": "Python 3"
    },
    "language_info": {
      "name": "python"
    }
  },
  "cells": [
    {
      "cell_type": "markdown",
      "metadata": {
        "id": "view-in-github",
        "colab_type": "text"
      },
      "source": [
        "<a href=\"https://colab.research.google.com/github/bluecityisu/class2022/blob/main/unzip.ipynb\" target=\"_parent\"><img src=\"https://colab.research.google.com/assets/colab-badge.svg\" alt=\"Open In Colab\"/></a>"
      ]
    },
    {
      "cell_type": "code",
      "execution_count": null,
      "metadata": {
        "id": "t8hzMNf5JtFw"
      },
      "outputs": [],
      "source": [
        "import os\n",
        "import zipfile\n",
        "local_zip = r'/content/drive/MyDrive/TsorFlo_Book/img_align_celeba.zip'\n",
        "zip_ref = zipfile.ZipFile(local_zip, 'r')\n",
        "zip_ref.extractall(r'/content/drive/MyDrive/TsorFlo_Book/geneAI/cele/img_align_celeba/img')\n",
        "zip_ref.close()"
      ]
    },
    {
      "cell_type": "code",
      "source": [
        "import os\n",
        "\n",
        "# folder path\n",
        "dir_path = r'/content/drive/MyDrive/TsorFlo_Book/geneAI/cele/img_align_celeba/img'\n",
        "count = 0\n",
        "cs=0\n",
        "for path in os.listdir(dir_path):\n",
        "    # check if current path is a file\n",
        "    if os.path.isfile(os.path.join(dir_path, path)):\n",
        "        count += 1\n",
        "        #str=int(path[:6])\n",
        "        #if str>=80001 and str<=83000:\n",
        "         # cs+=1\n",
        "          #print(str)\n",
        "print('File count:', count)"
      ],
      "metadata": {
        "id": "bm26ltHaGHQA"
      },
      "execution_count": null,
      "outputs": []
    }
  ]
}