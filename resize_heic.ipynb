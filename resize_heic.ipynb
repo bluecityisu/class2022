{
  "nbformat": 4,
  "nbformat_minor": 0,
  "metadata": {
    "colab": {
      "private_outputs": true,
      "provenance": [],
      "mount_file_id": "1YvntntBjcAv4cUgoAg8RXS1t-x-BdYxz",
      "authorship_tag": "ABX9TyMEPJG4008hTCajCr9REc1G",
      "include_colab_link": true
    },
    "kernelspec": {
      "name": "python3",
      "display_name": "Python 3"
    },
    "language_info": {
      "name": "python"
    }
  },
  "cells": [
    {
      "cell_type": "markdown",
      "metadata": {
        "id": "view-in-github",
        "colab_type": "text"
      },
      "source": [
        "<a href=\"https://colab.research.google.com/github/bluecityisu/class2022/blob/main/resize_heic.ipynb\" target=\"_parent\"><img src=\"https://colab.research.google.com/assets/colab-badge.svg\" alt=\"Open In Colab\"/></a>"
      ]
    },
    {
      "cell_type": "code",
      "execution_count": null,
      "metadata": {
        "id": "35ahjPNYyqAk"
      },
      "outputs": [],
      "source": [
        "!pip install pyheif"
      ]
    },
    {
      "cell_type": "code",
      "source": [
        "import PIL\n",
        "from PIL import Image\n",
        "import glob\n",
        "import shutil, os\n",
        "from time import sleep\n",
        "import pyheif"
      ],
      "metadata": {
        "id": "5hjtw8VPy2x0"
      },
      "execution_count": null,
      "outputs": []
    },
    {
      "cell_type": "code",
      "source": [
        "src=r\"/content/drive/MyDrive/class202309/smart/mobilephone/backup/original_heic\"\n",
        "src1=src+ \"/tmp\"\n",
        "myfiles = glob.glob(src + '/*.HEIC') # or *.HEIC\n",
        "#myfiles=glob.glob(src+'/*')"
      ],
      "metadata": {
        "id": "NtLW34BNy5Ar"
      },
      "execution_count": null,
      "outputs": []
    },
    {
      "cell_type": "code",
      "source": [
        "for t in myfiles:\n",
        "  print(t.split(\"/\")[-1])"
      ],
      "metadata": {
        "id": "Zk-qD8K50MH7"
      },
      "execution_count": null,
      "outputs": []
    },
    {
      "cell_type": "code",
      "source": [
        "\n",
        "dest=r\"/content/drive/MyDrive/class202309/smart/mobilephone/backup/pic\"\n",
        "shutil.rmtree(dest)\n",
        "shutil.rmtree(src1)"
      ],
      "metadata": {
        "id": "nF9KBZfW0SS5"
      },
      "execution_count": null,
      "outputs": []
    },
    {
      "cell_type": "code",
      "source": [
        "os.mkdir(dest)\n",
        "os.mkdir(src1)"
      ],
      "metadata": {
        "id": "-9WaHzbL0d6a"
      },
      "execution_count": null,
      "outputs": []
    },
    {
      "cell_type": "code",
      "source": [
        "for f in myfiles:\n",
        "  fname = f.split(\"/\")[-1]\n",
        "  fname2=fname.split(\".\")[0]\n",
        "  i = pyheif.read_heif(f)\n",
        "  #pi = Image.frombytes(mode=i.mode, size=i.size, data=i.data)\n",
        "  pi = Image.frombytes(\n",
        "    i.mode,\n",
        "    i.size,\n",
        "    i.data,\n",
        "    \"raw\",\n",
        "    i.mode,\n",
        "    i.stride,\n",
        "   )\n",
        "  pi.save(src1 + '/' + fname2 + \".jpg\", format='jpeg')"
      ],
      "metadata": {
        "id": "22Cmpgyj0iWh"
      },
      "execution_count": null,
      "outputs": []
    },
    {
      "cell_type": "code",
      "source": [
        "\n",
        "myfiles = glob.glob(src1 + '/*.jpg')\n",
        "for f in myfiles:\n",
        "  fname = f.split(\"/\")[-1]\n",
        "  print(f)\n",
        "  with Image.open(f) as img:\n",
        "    img_new = img.resize((150, 150), PIL.Image.LANCZOS)\n",
        "    img_new.save(dest + '/' + fname)\n",
        "\n",
        "print('Resize the pics!！\\n')"
      ],
      "metadata": {
        "id": "QHBq8wd_0-KC"
      },
      "execution_count": null,
      "outputs": []
    }
  ]
}