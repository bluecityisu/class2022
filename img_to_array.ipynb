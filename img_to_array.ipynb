{
  "nbformat": 4,
  "nbformat_minor": 0,
  "metadata": {
    "colab": {
      "private_outputs": true,
      "provenance": [],
      "mount_file_id": "1aJ6FQqO927vHP9sA96i99U9rrFlk124S",
      "authorship_tag": "ABX9TyMawu5d3h0+fygJJI32OR4c",
      "include_colab_link": true
    },
    "kernelspec": {
      "name": "python3",
      "display_name": "Python 3"
    },
    "language_info": {
      "name": "python"
    }
  },
  "cells": [
    {
      "cell_type": "markdown",
      "metadata": {
        "id": "view-in-github",
        "colab_type": "text"
      },
      "source": [
        "<a href=\"https://colab.research.google.com/github/bluecityisu/class2022/blob/main/img_to_array.ipynb\" target=\"_parent\"><img src=\"https://colab.research.google.com/assets/colab-badge.svg\" alt=\"Open In Colab\"/></a>"
      ]
    },
    {
      "cell_type": "code",
      "execution_count": null,
      "metadata": {
        "id": "WqRV93YIDPKw"
      },
      "outputs": [],
      "source": [
        "\n",
        "import numpy as np\n",
        "from PIL import Image\n",
        "from numpy import asarray\n",
        "import matplotlib.pyplot as plt\n",
        "\n",
        "# load the image and convert into\n",
        "# numpy array\n",
        "img = Image.open(r'/content/drive/MyDrive/TsorFlo_Book/geneAI/sample.png')\n",
        "plt.imshow(img)"
      ]
    },
    {
      "cell_type": "code",
      "source": [
        "numpydata = asarray(img)\n",
        "print(numpydata)"
      ],
      "metadata": {
        "id": "IJU6xCGnE-9Z"
      },
      "execution_count": null,
      "outputs": []
    },
    {
      "cell_type": "code",
      "source": [
        "numpydata.shape"
      ],
      "metadata": {
        "id": "4v2VU_5oFrsw"
      },
      "execution_count": null,
      "outputs": []
    },
    {
      "cell_type": "code",
      "source": [
        "data=numpydata.flatten()"
      ],
      "metadata": {
        "id": "-LhjVhLxFyrp"
      },
      "execution_count": null,
      "outputs": []
    },
    {
      "cell_type": "code",
      "source": [
        "for i in data:\n",
        "  print(i)"
      ],
      "metadata": {
        "id": "OCxap-YkGq_p"
      },
      "execution_count": null,
      "outputs": []
    },
    {
      "cell_type": "code",
      "source": [
        "data.shape"
      ],
      "metadata": {
        "id": "VjYEDrfKF5Jp"
      },
      "execution_count": null,
      "outputs": []
    },
    {
      "cell_type": "code",
      "source": [
        "newimage=np.reshape(data, (413, 416, 4))"
      ],
      "metadata": {
        "id": "KgmZ3hhOGCka"
      },
      "execution_count": null,
      "outputs": []
    },
    {
      "cell_type": "code",
      "source": [
        "plt.imshow(newimage)"
      ],
      "metadata": {
        "id": "xEXAvCTOGhxj"
      },
      "execution_count": null,
      "outputs": []
    }
  ]
}