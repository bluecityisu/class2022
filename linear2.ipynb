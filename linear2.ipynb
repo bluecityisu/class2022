{
  "nbformat": 4,
  "nbformat_minor": 0,
  "metadata": {
    "colab": {
      "name": "linear2.ipynb",
      "private_outputs": true,
      "provenance": [],
      "collapsed_sections": [],
      "authorship_tag": "ABX9TyPWm1Z/uyPERPQFUqfC11UU",
      "include_colab_link": true
    },
    "kernelspec": {
      "name": "python3",
      "display_name": "Python 3"
    },
    "language_info": {
      "name": "python"
    },
    "accelerator": "GPU",
    "gpuClass": "standard"
  },
  "cells": [
    {
      "cell_type": "markdown",
      "metadata": {
        "id": "view-in-github",
        "colab_type": "text"
      },
      "source": [
        "<a href=\"https://colab.research.google.com/github/bluecityisu/class2022/blob/main/linear2.ipynb\" target=\"_parent\"><img src=\"https://colab.research.google.com/assets/colab-badge.svg\" alt=\"Open In Colab\"/></a>"
      ]
    },
    {
      "cell_type": "code",
      "source": [
        "import numpy as np\n",
        "x1 = np.array([-3, 2, 4, 6, 8, 10])\n",
        "x2 = np.array([5, 6, 8, 9, 12, 13])\n",
        "ys = np.array([-1, 10, 16, 21, 28, 33])\n",
        "#ys=2x1+x2"
      ],
      "metadata": {
        "id": "xOZCBqfNUVe5"
      },
      "execution_count": null,
      "outputs": []
    },
    {
      "cell_type": "code",
      "source": [
        "xs=[[a,b] for a,b in zip(x1,x2)]\n",
        "for x in xs:\n",
        "  print(x)"
      ],
      "metadata": {
        "id": "CFf8suZ8VqBP"
      },
      "execution_count": null,
      "outputs": []
    },
    {
      "cell_type": "code",
      "source": [
        "xs=np.array(xs,dtype=float)\n",
        "xs.shape"
      ],
      "metadata": {
        "id": "LyCitNEkWaJH"
      },
      "execution_count": null,
      "outputs": []
    },
    {
      "cell_type": "code",
      "execution_count": null,
      "metadata": {
        "id": "yxgG4GEqRRCk"
      },
      "outputs": [],
      "source": [
        "import matplotlib.pyplot as plt\n",
        "import numpy as np\n"
      ]
    },
    {
      "cell_type": "code",
      "source": [
        "ys=np.reshape(ys, (6,1))\n",
        "ys"
      ],
      "metadata": {
        "id": "v4qME-BpSwdB"
      },
      "execution_count": null,
      "outputs": []
    },
    {
      "cell_type": "code",
      "source": [
        "import tensorflow as tf\n",
        "from tensorflow.keras import Sequential\n",
        "from tensorflow.keras.layers import Dense\n",
        "\n",
        "model = Sequential([\n",
        "  Dense(5,input_shape=[2]),\n",
        "  Dense(10),\n",
        "  Dense(5),\n",
        "  Dense(1)\n",
        "])\n",
        "\n",
        "model.compile(optimizer='adam', loss='mean_squared_error')\n"
      ],
      "metadata": {
        "id": "V8j70ygtRhNa"
      },
      "execution_count": null,
      "outputs": []
    },
    {
      "cell_type": "code",
      "source": [
        "model.fit(xs, ys, epochs=1000)"
      ],
      "metadata": {
        "id": "-_4z0IcURmna"
      },
      "execution_count": null,
      "outputs": []
    },
    {
      "cell_type": "code",
      "source": [
        "p=np.array([[6,10]])\n",
        "abc=model.predict(p)\n",
        "print(abc)"
      ],
      "metadata": {
        "id": "DvizwQa5TlIJ"
      },
      "execution_count": null,
      "outputs": []
    },
    {
      "cell_type": "code",
      "source": [
        "!pip install tensorflowjs\n",
        "import tensorflowjs as tfjs\n",
        "tfjs.converters.save_keras_model(model, 'models')"
      ],
      "metadata": {
        "id": "01Ve_etA5_ua"
      },
      "execution_count": null,
      "outputs": []
    }
  ]
}