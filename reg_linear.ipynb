{
  "nbformat": 4,
  "nbformat_minor": 0,
  "metadata": {
    "colab": {
      "provenance": [],
      "private_outputs": true,
      "mount_file_id": "1ZBWqhP3uvNf5iiyTDUzAkceQd2ZoVOvA",
      "authorship_tag": "ABX9TyOmYYwrazXTzipgn7b1N7mF",
      "include_colab_link": true
    },
    "kernelspec": {
      "name": "python3",
      "display_name": "Python 3"
    },
    "language_info": {
      "name": "python"
    },
    "accelerator": "TPU"
  },
  "cells": [
    {
      "cell_type": "markdown",
      "metadata": {
        "id": "view-in-github",
        "colab_type": "text"
      },
      "source": [
        "<a href=\"https://colab.research.google.com/github/bluecityisu/class2022/blob/main/reg_linear.ipynb\" target=\"_parent\"><img src=\"https://colab.research.google.com/assets/colab-badge.svg\" alt=\"Open In Colab\"/></a>"
      ]
    },
    {
      "cell_type": "code",
      "execution_count": null,
      "metadata": {
        "id": "-YbJw8cLw-jl"
      },
      "outputs": [],
      "source": [
        "import matplotlib.pyplot as plt\n",
        "import numpy as np\n",
        "import pandas as pd\n",
        "import seaborn as sns\n",
        "import tensorflow as tf\n",
        "from tensorflow import keras\n",
        "from tensorflow.keras import layers\n",
        "from tensorflow.keras import Sequential\n",
        "from tensorflow.keras.layers import Dense\n",
        "print(tf.__version__)"
      ]
    },
    {
      "cell_type": "code",
      "source": [
        "url='/content/drive/MyDrive/python_bank/reg/s2303.xlsx'\n",
        "data = pd.read_excel(url)\n",
        "fn=[]\n",
        "final=[]\n",
        "final2=[]\n",
        "accy_test=[]\n",
        "accy_train=[]\n",
        "data"
      ],
      "metadata": {
        "id": "dUbncTaIxEZo"
      },
      "execution_count": null,
      "outputs": []
    },
    {
      "cell_type": "code",
      "source": [
        "model = Sequential([\n",
        "  Dense(3, input_shape=[1,]),\n",
        "  Dense(1)\n",
        "])\n",
        "model.compile(loss='mean_squared_error', optimizer='adam')"
      ],
      "metadata": {
        "id": "z-rMS9Ui0Bei"
      },
      "execution_count": null,
      "outputs": []
    },
    {
      "cell_type": "code",
      "source": [
        "print(model.summary())"
      ],
      "metadata": {
        "id": "83r6t1M_R6zU"
      },
      "execution_count": null,
      "outputs": []
    },
    {
      "cell_type": "code",
      "source": [
        "ss=data.pop('ss')\n",
        "loop=len(data.columns)-1\n",
        "for i in range(loop):\n",
        "  fn.append(data.columns[i+1])\n",
        "loop"
      ],
      "metadata": {
        "id": "7AZww948nAd_"
      },
      "execution_count": null,
      "outputs": []
    },
    {
      "cell_type": "code",
      "source": [
        "for i in range(loop):\n",
        "  target=data[data.columns[i+1]]\n",
        "  newset=pd.DataFrame(target)\n",
        "  \"\"\"\n",
        "  newset.insert(1,\"s2\",0)\n",
        "  newset[\"s2\"]=newset[newset.columns[0]]-ss\n",
        "  newset.insert(2,\"s3\",0)\n",
        "  for j in range(len(newset)-1):\n",
        "    newset[\"s3\"].iloc[j+1]=newset[newset.columns[0]].iloc[j+1]-newset[newset.columns[0]].iloc[j]\n",
        "  newset=newset.drop(newset.index[0],axis=0)\n",
        "  \"\"\"\n",
        "  newset=newset.drop(newset.index[-1],axis=0)\n",
        "  ss1=ss.drop(ss.index[0],axis=0)\n",
        "  #ss1=ss1.drop(ss1.index[0],axis=0)\n",
        "  data2 = pd.concat([ss1, newset], axis=1, join='inner')\n",
        "  train_dataset = data2[0:32]\n",
        "  test_dataset = data2.drop(train_dataset.index)\n",
        "  train_features = train_dataset.copy()\n",
        "  test_features = test_dataset.copy()\n",
        "  train_labels = train_features.pop('ss')\n",
        "  test_labels = test_features.pop('ss')\n",
        "\n",
        "\n",
        "  train_features=np.expand_dims(train_features,-1)\n",
        "  test_features=np.expand_dims(test_features,-1)\n",
        "\n",
        "  history = model.fit(train_features, train_labels, epochs=300)\n",
        "  hist = pd.DataFrame(history.history)\n",
        "  re=np.array(hist)\n",
        "  final.append(re[-1,0])\n",
        "  test_results = {}\n",
        "  test_results['model'] = model.evaluate(test_features, test_labels, verbose=0)\n",
        "  ds=np.array(test_features)\n",
        "  ys=model.predict(ds)\n",
        "  ys=ys.reshape(ys.shape[0])\n",
        "  yy=[[i,j] for i,j in zip(ys, test_labels)]\n",
        "  yy2=[]\n",
        "  k=0\n",
        "  for i in range(len(yy)-1):\n",
        "    a1=yy[i+1][0]-yy[i][0]\n",
        "    a2=yy[i+1][1]-yy[i][1]\n",
        "    if a1*a2>0:\n",
        "      k=k+1\n",
        "\n",
        "  final2.append(test_results['model'])\n",
        "  accy_test.append(k/(len(yy)-1))"
      ],
      "metadata": {
        "id": "4m7mGTJNpop-"
      },
      "execution_count": null,
      "outputs": []
    },
    {
      "cell_type": "code",
      "source": [
        "print(final)\n",
        "print(fn)"
      ],
      "metadata": {
        "id": "Eu5lGrAG5Qht"
      },
      "execution_count": null,
      "outputs": []
    },
    {
      "cell_type": "code",
      "source": [
        "final2"
      ],
      "metadata": {
        "id": "xRzzHEt0rQ5P"
      },
      "execution_count": null,
      "outputs": []
    },
    {
      "cell_type": "code",
      "source": [
        "accy_test"
      ],
      "metadata": {
        "id": "mhIPI2VCHGbj"
      },
      "execution_count": null,
      "outputs": []
    },
    {
      "cell_type": "code",
      "source": [
        "model.get_layer('dense_13').get_weights()"
      ],
      "metadata": {
        "id": "gpcwW247Ss8S"
      },
      "execution_count": null,
      "outputs": []
    },
    {
      "cell_type": "code",
      "source": [
        "print(train_features.shape)\n",
        "ds=np.array(train_features)\n",
        "ys=model.predict(ds)\n",
        "print(ys,train_labels)"
      ],
      "metadata": {
        "id": "Wq--y5kngqn5"
      },
      "execution_count": null,
      "outputs": []
    },
    {
      "cell_type": "code",
      "source": [
        "def plot_linear2(ys):\n",
        "  test_t=np.linspace(0, len(ys), len(ys))\n",
        "  plt.plot(test_t, train_labels, color='k', marker='o', label='Current Y')\n",
        "  plt.plot(test_t, ys, color='y', marker='o', label='Predicted Y')\n",
        "  #plt.plot(test_t, test_features[test_features.columns[0]], color='b', marker='o', label='X')\n",
        "  plt.ylabel('stock price')\n",
        "  plt.xlabel('t')\n",
        "  plt.legend()\n",
        "plot_linear2(ys)"
      ],
      "metadata": {
        "id": "uzKHIJ-0hMFQ"
      },
      "execution_count": null,
      "outputs": []
    }
  ]
}